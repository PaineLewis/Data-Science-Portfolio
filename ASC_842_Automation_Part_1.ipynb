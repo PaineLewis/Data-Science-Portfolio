{
 "cells": [
  {
   "cell_type": "markdown",
   "id": "2f115c32",
   "metadata": {},
   "source": [
    "#### To begin, run the cell below. It contains all of the necessary set-up code. "
   ]
  },
  {
   "cell_type": "code",
   "execution_count": 206,
   "id": "1a5ffa50",
   "metadata": {},
   "outputs": [],
   "source": [
    "import mysql.connector\n",
    "import sqlalchemy as db\n",
    "from urllib.parse import urlparse\n",
    "from datetime import datetime\n",
    "import pandas as pd\n",
    "import numpy as np\n",
    "import sys\n",
    "\n",
    "#database path\n",
    "f = open(\"db_path.txt\", \"r\")\n",
    "path = f.read()\n",
    "f.close()\n",
    "\n",
    "#create sqlalchemy engine for pd.read_sql\n",
    "engine = db.create_engine(path)\n",
    "\n",
    "#parse database URL\n",
    "url = urlparse(path)\n",
    "\n",
    "host = url.hostname\n",
    "port = url.port\n",
    "user = url.username\n",
    "password = url.password\n",
    "database = url.path[1:]\n",
    "\n",
    "#define function to connect to the database\n",
    "db_connect = lambda: mysql.connector.connect (host = host,\n",
    "                                              port = port,\n",
    "                                              user = user,\n",
    "                                              password = password,\n",
    "                                              database = database)\n",
    "\n",
    "def write_query(db_connect, query, values, many = False):\n",
    "    \n",
    "    with db_connect() as connection:\n",
    "        with connection.cursor() as cursor:\n",
    "            \n",
    "            if many:\n",
    "                cursor.executemany(query, values)\n",
    "            else:\n",
    "                cursor.execute(query, values)\n",
    "\n",
    "            connection.commit()\n",
    "                   \n",
    "\n",
    "def check_lease_name (lease_name):\n",
    "    assert type(lease_name) == str, 'The lease_name is not a string'\n",
    "    assert len(lease_name) <= 50, 'The lease_name is too long'\n",
    "    assert lease_name not in list(leases['lease_name']), 'This lease_name has already been used'\n",
    "\n",
    "def check_dates (j):\n",
    "    for i in j:\n",
    "        assert type(i) == str, f\"{i} is not a string\"\n",
    "        try:\n",
    "            pd.to_datetime(i)\n",
    "        except:\n",
    "            raise AssertionError(f\"{i} is not a valid date or is not in the valid date format.\")\n",
    "            \n",
    "def check_numbers(j):\n",
    "    for i in j:\n",
    "        assert type(i) == int or type(i) == float, f\"{i} is not an integer or float\"\n",
    "        assert i >=0, 'There should not be any negative inputs'\n",
    "\n",
    "def check_bools(j):\n",
    "    for i in j:\n",
    "        assert type(i) == bool, f\"{i} is not a boolean\" \n",
    "\n",
    "def print_lease_info():\n",
    "    print('\\n')\n",
    "    print('Lease Name:', lease_name)\n",
    "    print('Lease Commencement:', commencement_date)\n",
    "    print('Lease Termination:', termination_date)\n",
    "    print('Upfront Payments:', upfront_payments)\n",
    "    print('Termination Payments:', termination_payments)\n",
    "    print('Discount Rate:', discount_rate)\n",
    "    print('Useful Life of Asset:', useful_life_of_asset)\n",
    "    print('Fair Value of Asset:', fair_value_of_asset)\n",
    "    print('Economic Life Policy:', economic_life_policy)\n",
    "    print('Fair Value Policy:', fair_value_policy)\n",
    "    print('Ownership Transfer:', ownership_transfer)\n",
    "    print('Purchase Option:', purchase_option)\n",
    "    print('Specialized Asset:', specialized_asset)     \n",
    "\n",
    "class payment_schedule:\n",
    "\n",
    "    def __init__(self, lease_start, lease_end, start_payments, end_payments):\n",
    "        \n",
    "        self.lease_start = pd.to_datetime(lease_start)\n",
    "        self.lease_end = pd.to_datetime(lease_end)\n",
    "        self.start_payments = start_payments\n",
    "        self.end_payments = end_payments\n",
    "\n",
    "        self.schedule = pd.DataFrame([self.lease_start, self.lease_end], columns = ['payment_date'])\n",
    "        self.schedule['payment_amount'] = [self.start_payments, self.end_payments]\n",
    "    \n",
    "    def add_payments (self, payment, start_month, day_of_month = 1, repeat = 1, end_of_month = False):\n",
    "        \n",
    "        assert type(payment) == int or type(payment) == float, 'Please enter a valid payment amount'\n",
    "        assert type(start_month) == str, 'Please enter the start month as a string'\n",
    "        try:\n",
    "            pd.to_datetime(start_month)\n",
    "        except:\n",
    "            print('Please enter a valid date in YYYY-MM format for the start month')\n",
    "        assert len(start_month) == 7, 'The date must be in YYYY-MM format for the start month'\n",
    "        assert type(repeat) == int, 'Please enter an integer for the repeat argument'\n",
    "        assert repeat > 0, 'The repeat must be at least 1'\n",
    "        assert type(end_of_month) == bool, 'Please enter True or False for the end_of_month argument'\n",
    "        assert type(day_of_month) == int, 'Please enter an integer for the alt_day argument'\n",
    "        assert day_of_month <=31 and day_of_month >=1, 'The alt_day argument does not appear to be a valid day of the month'\n",
    "        \n",
    "        #define start\n",
    "        start = pd.to_datetime(start_month)\n",
    "\n",
    "        #define payment frequency\n",
    "        frequency = 'MS'\n",
    "        \n",
    "        if end_of_month:\n",
    "            frequency = 'M'\n",
    "            day_of_month = 1\n",
    "\n",
    "            \n",
    "        #create the date range\n",
    "        date_range = pd.Series(pd.date_range(start, freq = frequency, periods = repeat) + pd.DateOffset(day_of_month-1))\n",
    "        \n",
    "        if date_range[0] >= pd.Timestamp(self.lease_start) and date_range[repeat-1] <= pd.Timestamp(self.lease_end):\n",
    "            \n",
    "            temp_df = pd.DataFrame(date_range, columns = ['payment_date'])\n",
    "            temp_df['payment_amount'] = payment\n",
    "            temp_df = pd.concat([self.schedule, temp_df])\n",
    "            temp_df = pd.DataFrame(temp_df.groupby(temp_df['payment_date'])['payment_amount'].sum()).reset_index()\n",
    "            temp_df = temp_df.sort_values(by = 'payment_date')\n",
    "            temp_df['no_payment_flag'] = 1\n",
    "            temp_df['no_payment_flag'] = np.where((temp_df['payment_date'] != self.lease_start) &\n",
    "                                                   (temp_df['payment_date'] != self.lease_end) &\n",
    "                                                   (temp_df['payment_amount'] <= 0), 0, temp_df['no_payment_flag'])\n",
    "            \n",
    "            temp_df = pd.DataFrame(temp_df.loc[temp_df['no_payment_flag']==1])\n",
    "            temp_df = temp_df.drop(columns = ['no_payment_flag'])\n",
    "            temp_df = temp_df.reset_index(drop = True)\n",
    "            \n",
    "            self.schedule = temp_df\n",
    "            print('Payments have been added to the schedule.')\n",
    "\n",
    "        else:\n",
    "            return('You have entered payments outside of the lease term.')\n",
    "    \n",
    "    def reset_schedule (self):\n",
    "        self.schedule = pd.DataFrame([self.lease_start, self.lease_end], columns = ['payment_date'])\n",
    "        self.schedule['payment_amount'] = [self.start_payments, self.end_payments]\n",
    "    "
   ]
  },
  {
   "cell_type": "markdown",
   "id": "39dcd872",
   "metadata": {},
   "source": [
    "## Step 1 - Select a Company"
   ]
  },
  {
   "cell_type": "markdown",
   "id": "910c7290",
   "metadata": {},
   "source": [
    "### Select an Existing Company"
   ]
  },
  {
   "cell_type": "markdown",
   "id": "257ea814",
   "metadata": {},
   "source": [
    "1. Run the cell below to view existing companies."
   ]
  },
  {
   "cell_type": "code",
   "execution_count": 211,
   "id": "016e5f70",
   "metadata": {},
   "outputs": [
    {
     "data": {
      "text/html": [
       "<div>\n",
       "<style scoped>\n",
       "    .dataframe tbody tr th:only-of-type {\n",
       "        vertical-align: middle;\n",
       "    }\n",
       "\n",
       "    .dataframe tbody tr th {\n",
       "        vertical-align: top;\n",
       "    }\n",
       "\n",
       "    .dataframe thead th {\n",
       "        text-align: right;\n",
       "    }\n",
       "</style>\n",
       "<table border=\"1\" class=\"dataframe\">\n",
       "  <thead>\n",
       "    <tr style=\"text-align: right;\">\n",
       "      <th></th>\n",
       "      <th>company_id</th>\n",
       "      <th>company_name</th>\n",
       "    </tr>\n",
       "  </thead>\n",
       "  <tbody>\n",
       "    <tr>\n",
       "      <th>0</th>\n",
       "      <td>35</td>\n",
       "      <td>ABC Corporation</td>\n",
       "    </tr>\n",
       "    <tr>\n",
       "      <th>1</th>\n",
       "      <td>25</td>\n",
       "      <td>Quantum Leap Innovations</td>\n",
       "    </tr>\n",
       "    <tr>\n",
       "      <th>2</th>\n",
       "      <td>26</td>\n",
       "      <td>Verdant Horizons Corporation</td>\n",
       "    </tr>\n",
       "    <tr>\n",
       "      <th>3</th>\n",
       "      <td>27</td>\n",
       "      <td>Zenith Digital Solutions</td>\n",
       "    </tr>\n",
       "  </tbody>\n",
       "</table>\n",
       "</div>"
      ],
      "text/plain": [
       "   company_id                  company_name\n",
       "0          35               ABC Corporation\n",
       "1          25      Quantum Leap Innovations\n",
       "2          26  Verdant Horizons Corporation\n",
       "3          27      Zenith Digital Solutions"
      ]
     },
     "metadata": {},
     "output_type": "display_data"
    }
   ],
   "source": [
    "companies = pd.read_sql_query ('select * from companies', engine.connect())\n",
    "pd.set_option('display.max_rows', None)\n",
    "display(companies)"
   ]
  },
  {
   "cell_type": "markdown",
   "id": "b7294c9b",
   "metadata": {},
   "source": [
    "2. Enter the desired company's name as a string and run the cell."
   ]
  },
  {
   "cell_type": "code",
   "execution_count": 212,
   "id": "17356f2d",
   "metadata": {},
   "outputs": [],
   "source": [
    "company_name = 'ABC Corporation'"
   ]
  },
  {
   "cell_type": "markdown",
   "id": "f1bb80ea",
   "metadata": {},
   "source": [
    "3. Run the cell below. If you have entered a valid company, it will select the company."
   ]
  },
  {
   "cell_type": "code",
   "execution_count": 213,
   "id": "6ce5930a",
   "metadata": {},
   "outputs": [
    {
     "name": "stdout",
     "output_type": "stream",
     "text": [
      "You have successfully selected ABC Corporation. Please proceed to Step 2 or select a different company.\n"
     ]
    }
   ],
   "source": [
    "try:\n",
    "    company_id = companies.loc[companies['company_name']==company_name, 'company_id'].item()\n",
    "    print(f\"You have successfully selected {company_name}. Please proceed to Step 2 or select a different company.\")\n",
    "except:\n",
    "    print('The company name selected does not appear in the table above. Please enter a valid company name.')"
   ]
  },
  {
   "cell_type": "markdown",
   "id": "936672d4",
   "metadata": {},
   "source": [
    "### OR Create a New Company"
   ]
  },
  {
   "cell_type": "markdown",
   "id": "423cb3ba",
   "metadata": {},
   "source": [
    "1. Enter the name of the new company below:\n",
    "> - The name must be 50 characters or less.\n",
    "> - The name must not be a duplicate name from the table above."
   ]
  },
  {
   "cell_type": "code",
   "execution_count": 208,
   "id": "14f456b7",
   "metadata": {},
   "outputs": [],
   "source": [
    "new_company_name = 'ABC Corporation'"
   ]
  },
  {
   "cell_type": "markdown",
   "id": "d1ed1a19",
   "metadata": {},
   "source": [
    "2. Run the cell below to ensure that the new company name is a valid entry."
   ]
  },
  {
   "cell_type": "code",
   "execution_count": 209,
   "id": "2da29e29",
   "metadata": {},
   "outputs": [
    {
     "name": "stdout",
     "output_type": "stream",
     "text": [
      "ABC Corporation appears to be a valid name. Please proceed.\n"
     ]
    }
   ],
   "source": [
    "assert type(new_company_name) == str, 'The name must be a string.'\n",
    "assert new_company_name not in list(companies['company_name']), 'This name appears to be a duplicate.'\n",
    "assert len (new_company_name) <= 50, 'This name is too long. It must be 50 characters or less.'\n",
    "\n",
    "print(f\"{new_company_name} appears to be a valid name. Please proceed.\")"
   ]
  },
  {
   "cell_type": "markdown",
   "id": "1a15d1eb",
   "metadata": {},
   "source": [
    "3. If the name appears valid, run the cell below to create a new company. "
   ]
  },
  {
   "cell_type": "code",
   "execution_count": 210,
   "id": "a978bdf0",
   "metadata": {},
   "outputs": [
    {
     "name": "stdout",
     "output_type": "stream",
     "text": [
      "A new company has been successfully created.\n"
     ]
    }
   ],
   "source": [
    "assert type(new_company_name) == str, 'The name must be a string.'\n",
    "assert new_company_name not in list(companies['company_name']), 'This name appears to be a duplicate.'\n",
    "assert len (new_company_name) <= 50, 'This name is too long. It must be 50 characters or less.'\n",
    "\n",
    "try:\n",
    "    query = 'INSERT INTO companies (company_name) VALUES (%s)'\n",
    "    values = [new_company_name]\n",
    "    write_query (db_connect, query, values)\n",
    "    print('A new company has been successfully created.')\n",
    "except mysql.connector.Error as e:\n",
    "    print('an error occurred with the database query and no new company was created. See MySQL error below:')\n",
    "    print(e)\n",
    "        "
   ]
  },
  {
   "cell_type": "markdown",
   "id": "cc609c85",
   "metadata": {},
   "source": [
    "#### If a new company has been succesfully created, return to the start of \"Select a Company\" and select the desired company from the company table."
   ]
  },
  {
   "cell_type": "markdown",
   "id": "b553fff9",
   "metadata": {},
   "source": [
    "## Step 2 - Select a Lease"
   ]
  },
  {
   "cell_type": "markdown",
   "id": "00c1c031",
   "metadata": {},
   "source": [
    "Begin this step after successfully selecting a company. In this step, you can add/delete leases or view/edit existing lease information (start/end date, discount rate, classification criteria, etc.). Lease payment schedules are evaluated separately further below."
   ]
  },
  {
   "cell_type": "markdown",
   "id": "39f7854f",
   "metadata": {},
   "source": [
    "### Select an Existing Lease"
   ]
  },
  {
   "cell_type": "markdown",
   "id": "3280ec57",
   "metadata": {},
   "source": [
    "1. Run the cell below to view the company's existing leases.\n",
    "\n",
    "> <br> <b>To add a lease, continue to \"Create a New Lease\" below.</b>"
   ]
  },
  {
   "cell_type": "code",
   "execution_count": 225,
   "id": "2573b39c",
   "metadata": {},
   "outputs": [
    {
     "data": {
      "text/html": [
       "<div>\n",
       "<style scoped>\n",
       "    .dataframe tbody tr th:only-of-type {\n",
       "        vertical-align: middle;\n",
       "    }\n",
       "\n",
       "    .dataframe tbody tr th {\n",
       "        vertical-align: top;\n",
       "    }\n",
       "\n",
       "    .dataframe thead th {\n",
       "        text-align: right;\n",
       "    }\n",
       "</style>\n",
       "<table border=\"1\" class=\"dataframe\">\n",
       "  <thead>\n",
       "    <tr style=\"text-align: right;\">\n",
       "      <th></th>\n",
       "      <th>lease_id</th>\n",
       "      <th>lease_name</th>\n",
       "    </tr>\n",
       "  </thead>\n",
       "  <tbody>\n",
       "    <tr>\n",
       "      <th>0</th>\n",
       "      <td>33</td>\n",
       "      <td>Example Lease A</td>\n",
       "    </tr>\n",
       "  </tbody>\n",
       "</table>\n",
       "</div>"
      ],
      "text/plain": [
       "   lease_id       lease_name\n",
       "0        33  Example Lease A"
      ]
     },
     "metadata": {},
     "output_type": "display_data"
    }
   ],
   "source": [
    "leases = pd.read_sql_query ('select * from leases WHERE company_id = %(identifier)s', engine.connect(), params = {'identifier':company_id})\n",
    "pd.set_option('display.max_rows', None)\n",
    "display(leases[['lease_id','lease_name']])"
   ]
  },
  {
   "cell_type": "markdown",
   "id": "63fbff42",
   "metadata": {},
   "source": [
    "2. Enter the desired lease's id as an integer and run the cell."
   ]
  },
  {
   "cell_type": "code",
   "execution_count": 226,
   "id": "f349b33d",
   "metadata": {},
   "outputs": [],
   "source": [
    "lease_id = 33"
   ]
  },
  {
   "cell_type": "markdown",
   "id": "4e4867c7",
   "metadata": {},
   "source": [
    "3. Run the cell below. If a valid lease id was entered, it will select the lease."
   ]
  },
  {
   "cell_type": "code",
   "execution_count": 227,
   "id": "38575841",
   "metadata": {},
   "outputs": [
    {
     "name": "stdout",
     "output_type": "stream",
     "text": [
      "You have selected the following lease: Example Lease A\n",
      "You may now view/edit this lease.\n"
     ]
    }
   ],
   "source": [
    "try:\n",
    "    lease = leases.loc[leases['lease_id']==lease_id, 'lease_name'].item()\n",
    "    print(f\"You have selected the following lease: {lease}\")\n",
    "    print('You may now view/edit this lease.')\n",
    "except:\n",
    "    print('The lease id entered does not appear in the table above. Please enter a valid lease id.')"
   ]
  },
  {
   "cell_type": "markdown",
   "id": "b1b83069",
   "metadata": {},
   "source": [
    "#### View Lease Details"
   ]
  },
  {
   "cell_type": "markdown",
   "id": "3180083b",
   "metadata": {},
   "source": [
    "Run the cell below to view the details previously input for the lease. Boolean fields are presented as \"1\" for True and \"0\" for False."
   ]
  },
  {
   "cell_type": "code",
   "execution_count": null,
   "id": "460beb51",
   "metadata": {
    "scrolled": true
   },
   "outputs": [],
   "source": [
    "cols = leases.columns[1:]\n",
    "leases.loc[leases['lease_name']==lease][cols]"
   ]
  },
  {
   "cell_type": "markdown",
   "id": "261611c2",
   "metadata": {},
   "source": [
    "#### Edit Lease Details"
   ]
  },
  {
   "cell_type": "markdown",
   "id": "5a2c3cf4",
   "metadata": {},
   "source": [
    "To edit any of the information above, provide the name of the column to update (col_name) as a string, and the new value (new_val) as the relevant data type (enter True or False for boolean fields). "
   ]
  },
  {
   "cell_type": "code",
   "execution_count": null,
   "id": "32d627e5",
   "metadata": {},
   "outputs": [],
   "source": [
    "col_name = 'ownership_transfer'\n",
    "new_val = True"
   ]
  },
  {
   "cell_type": "markdown",
   "id": "21fc1d2e",
   "metadata": {},
   "source": [
    "Run the following cell to update the lease information. "
   ]
  },
  {
   "cell_type": "code",
   "execution_count": null,
   "id": "927ce19c",
   "metadata": {},
   "outputs": [],
   "source": [
    "valid_names = ['lease_name', 'commencement_date', 'termination_date', 'upfront_payments', 'termination_payments',\n",
    "               'discount_rate', 'useful_life_of_asset', 'fair_value_of_asset', 'economic_life_policy', 'fair_value_policy',\n",
    "               'ownership_transfer', 'purchase_option', 'specialized_asset']\n",
    "\n",
    "assert col_name in valid_names, 'This is not a valid column name, or you have selected a column that cannot be updated.'\n",
    "\n",
    "if col_name == valid_names[0]:\n",
    "    check_lease_name(new_val)\n",
    "    \n",
    "if col_name in valid_names[1:3]:\n",
    "    check_dates([new_val])\n",
    "\n",
    "if col_name in valid_names[3:10]:\n",
    "    check_numbers([new_val])\n",
    "\n",
    "if col_name in valid_names[10:]:\n",
    "    check_bools([new_val])\n",
    "\n",
    "query = f\"UPDATE leases SET {col_name} = %s WHERE lease_name = %s;\"\n",
    "values = (new_val, lease)\n",
    "\n",
    "try:\n",
    "    write_query (db_connect, query, values)\n",
    "    print('Lease information has been updated. Return to the top of Step 2 and re-select the lease to view changes.')\n",
    "except mysql.connector.Error as e:\n",
    "    print('an error occurred with the database query and no new company was created. See MySQL error below:')\n",
    "    print(e)"
   ]
  },
  {
   "cell_type": "markdown",
   "id": "f9c91ff3",
   "metadata": {},
   "source": [
    "### Create a New Lease\n",
    "\n",
    "To create a new lease, enter all of the required information below, noting the specifications.\n",
    "<br>\n",
    "<br>\n",
    "After creating a lease, a lease payment schedule will need to be created in <b> Step 3 </b> below before the lease is ready to be evaluated in Part II. "
   ]
  },
  {
   "cell_type": "markdown",
   "id": "bc6d5795",
   "metadata": {},
   "source": [
    "1. Enter the lease name as a string. The name must be 50 characters or less, and must not be a duplicate name."
   ]
  },
  {
   "cell_type": "code",
   "execution_count": 215,
   "id": "7d8bc48c",
   "metadata": {},
   "outputs": [],
   "source": [
    "lease_name = 'Example Lease A'"
   ]
  },
  {
   "cell_type": "markdown",
   "id": "c10b66bb",
   "metadata": {},
   "source": [
    "2. Enter the lease commencement and termination dates. The dates must be strings in the YYYY-MM-DD format."
   ]
  },
  {
   "cell_type": "code",
   "execution_count": 216,
   "id": "52227634",
   "metadata": {},
   "outputs": [],
   "source": [
    "commencement_date = '2020-04-01'\n",
    "termination_date = '2028-03-31'"
   ]
  },
  {
   "cell_type": "markdown",
   "id": "f19ca5fc",
   "metadata": {},
   "source": [
    "3. Enter any payments made on or before lease initiation (prepayments, initial upfront payments, etc.). The amount should be an integer or float. If there are no upfront payments, enter 0."
   ]
  },
  {
   "cell_type": "code",
   "execution_count": 217,
   "id": "7aa9eccd",
   "metadata": {},
   "outputs": [],
   "source": [
    "upfront_payments = 0"
   ]
  },
  {
   "cell_type": "markdown",
   "id": "351deb24",
   "metadata": {},
   "source": [
    "4. Enter any payments made upon lease termination (such as the amount of a purchase option that is likely to be exercised). The amount should be an integer or a float. If there are no payments made upon lease termination, enter 0."
   ]
  },
  {
   "cell_type": "code",
   "execution_count": 218,
   "id": "f5c755d6",
   "metadata": {},
   "outputs": [],
   "source": [
    "termination_payments = 0"
   ]
  },
  {
   "cell_type": "markdown",
   "id": "461530e0",
   "metadata": {},
   "source": [
    "5. Enter the discount rate applicable to the lease <b> as a decimal </b>. Using a % sign will not work."
   ]
  },
  {
   "cell_type": "code",
   "execution_count": 219,
   "id": "c4175135",
   "metadata": {},
   "outputs": [],
   "source": [
    "discount_rate = 0.06"
   ]
  },
  {
   "cell_type": "markdown",
   "id": "8ef11a42",
   "metadata": {},
   "source": [
    "6. Enter the estimated useful life of the leased asset <b> in months </b> and an estimate of fair value of the leased asset. Both inputs should be an integer or a float. This data is required to assess the lease classification."
   ]
  },
  {
   "cell_type": "code",
   "execution_count": 220,
   "id": "61d4e381",
   "metadata": {},
   "outputs": [],
   "source": [
    "useful_life_of_asset = 10000\n",
    "fair_value_of_asset = 1000000000"
   ]
  },
  {
   "cell_type": "markdown",
   "id": "6aaada2a",
   "metadata": {},
   "source": [
    "7. Each company must determine what they consider to constitute a \"major part\" of the economic life or fair value of the leased asset. A rule-of-thumb is 75% for the useful life election, and 90% for the fair value election. Enter these amounts as decimals below or, if the company has a different policy election, enter the correct amounts. The resulting data type should be float."
   ]
  },
  {
   "cell_type": "code",
   "execution_count": 221,
   "id": "4cdfb025",
   "metadata": {},
   "outputs": [],
   "source": [
    "economic_life_policy = 0.75\n",
    "fair_value_policy = 0.90"
   ]
  },
  {
   "cell_type": "markdown",
   "id": "21c396e7",
   "metadata": {},
   "source": [
    "8. Enter boolean data (True or False) for each lease classification criteria listed below. \n",
    "> - If the lease terms include a transfer of ownership of the leased asset, enter True for 'ownership_transfer'. \n",
    "> - If the lease includes a purchase option that the lessee is reasonably likely to exercise, enter True for 'purchase_option'.\n",
    "> - If the leased asset is of a highly specialized nature, or other circumstances exist such that the leased asset will have no value to the lessor following the termination of the lease, enter True for 'specialized_asset'.\n",
    "> - Enter False for any criteria that do not apply."
   ]
  },
  {
   "cell_type": "code",
   "execution_count": 222,
   "id": "a9e4a6db",
   "metadata": {},
   "outputs": [],
   "source": [
    "ownership_transfer = False\n",
    "purchase_option = False\n",
    "specialized_asset = False"
   ]
  },
  {
   "cell_type": "markdown",
   "id": "94a0504b",
   "metadata": {},
   "source": [
    "#### Run the cell below to check the inputs above. It will check that proper data types/formats have been used."
   ]
  },
  {
   "cell_type": "code",
   "execution_count": 223,
   "id": "0b546249",
   "metadata": {},
   "outputs": [
    {
     "name": "stdout",
     "output_type": "stream",
     "text": [
      "Lease inputs appear appropriate:\n",
      "Lease inputs are as follows:\n",
      "\n",
      "\n",
      "Lease Name: Example Lease A\n",
      "Lease Commencement: 2020-04-01\n",
      "Lease Termination: 2028-03-31\n",
      "Upfront Payments: 0\n",
      "Termination Payments: 0\n",
      "Discount Rate: 0.06\n",
      "Useful Life of Asset: 10000\n",
      "Fair Value of Asset: 1000000000\n",
      "Economic Life Policy: 0.75\n",
      "Fair Value Policy: 0.9\n",
      "Ownership Transfer: False\n",
      "Purchase Option: False\n",
      "Specialized Asset: False\n"
     ]
    }
   ],
   "source": [
    "check_lease_name (lease_name)\n",
    "\n",
    "j = [commencement_date, termination_date]\n",
    "check_dates(j)\n",
    "\n",
    "j = [upfront_payments, termination_payments, discount_rate, useful_life_of_asset, fair_value_of_asset,\n",
    "     economic_life_policy, fair_value_policy]\n",
    "check_numbers(j)\n",
    "\n",
    "j = [ownership_transfer, purchase_option, specialized_asset]\n",
    "check_bools(j)\n",
    "\n",
    "print('Lease inputs appear appropriate:')\n",
    "print('Lease inputs are as follows:')\n",
    "\n",
    "print_lease_info()"
   ]
  },
  {
   "cell_type": "markdown",
   "id": "3c47f83f",
   "metadata": {},
   "source": [
    "#### Double check that the cell above does not return an error and that the inputs are accurate, then run the cell below to create a new lease."
   ]
  },
  {
   "cell_type": "code",
   "execution_count": 224,
   "id": "e4c348ae",
   "metadata": {},
   "outputs": [
    {
     "name": "stdout",
     "output_type": "stream",
     "text": [
      "A new lease has been successfully created. After selecting the lease(above), go to Step 3 to add a payment schedule for the lease\n"
     ]
    }
   ],
   "source": [
    "check_lease_name (lease_name)\n",
    "\n",
    "j = [commencement_date, termination_date]\n",
    "check_dates(j)\n",
    "\n",
    "j = [upfront_payments, termination_payments, discount_rate, useful_life_of_asset, fair_value_of_asset,\n",
    "     economic_life_policy, fair_value_policy]\n",
    "check_numbers(j)\n",
    "\n",
    "j = [ownership_transfer, purchase_option, specialized_asset]\n",
    "check_bools(j)\n",
    "\n",
    "query = '''\n",
    "INSERT INTO leases(company_id,lease_name,commencement_date,termination_date,upfront_payments,termination_payments,discount_rate,\n",
    "useful_life_of_asset,fair_value_of_asset,economic_life_policy,fair_value_policy,ownership_transfer,purchase_option,\n",
    "specialized_asset) VALUES (%s, %s, %s, %s, %s, %s, %s, %s, %s, %s, %s, %s, %s, %s);'''\n",
    "\n",
    "values = [company_id,lease_name, commencement_date, termination_date, upfront_payments, \n",
    "          termination_payments, discount_rate, useful_life_of_asset, fair_value_of_asset,\n",
    "          economic_life_policy, fair_value_policy, ownership_transfer, purchase_option,\n",
    "          specialized_asset]\n",
    "try:\n",
    "    write_query (db_connect, query, values)\n",
    "    print('A new lease has been successfully created. After selecting the lease(above), go to Step 3 to add a payment schedule for the lease')\n",
    "except mysql.connector.Error as e:\n",
    "    print('an error occurred with the database query and no new company was created. See MySQL error below:')\n",
    "    print(e)"
   ]
  },
  {
   "cell_type": "markdown",
   "id": "aca7fd74",
   "metadata": {},
   "source": [
    "## Step 3 - Create/Edit Payment Schedules"
   ]
  },
  {
   "cell_type": "markdown",
   "id": "f55d2b96",
   "metadata": {},
   "source": [
    "To begin this step, first select a lease above. In this step, you can create/edit lease payment schedules."
   ]
  },
  {
   "cell_type": "markdown",
   "id": "d4c77615",
   "metadata": {},
   "source": [
    "### View/Edit the Payment Schedule\n",
    "1. After selecting a lease, run the cell below retreive the lease's payment schedule."
   ]
  },
  {
   "cell_type": "code",
   "execution_count": 228,
   "id": "db4ecd70",
   "metadata": {},
   "outputs": [
    {
     "name": "stdout",
     "output_type": "stream",
     "text": [
      "No payment information has been created for this lease. You need to add payment information below.\n"
     ]
    }
   ],
   "source": [
    "retreive = lambda column: leases.loc[leases['lease_name']==lease, column].item()\n",
    "pmt_df = pd.read_sql_query ('select * from payments WHERE lease_id = %(identifier)s', engine.connect(), params = {'identifier':retreive('lease_id')})\n",
    "\n",
    "if len(pmt_df) == 0:\n",
    "    print('No payment information has been created for this lease. You need to add payment information below.')\n",
    "else:\n",
    "    print('The following payments schedule has been assigned to the lease:')\n",
    "    display(pmt_df[['payment_date','payment_amount']])"
   ]
  },
  {
   "cell_type": "markdown",
   "id": "c613cdcf",
   "metadata": {},
   "source": [
    "If you need to add/edit payment information, proceed with the steps below. Note that there is currently no way to edit payment information without creating a new payment schedule from scratch and overwriting the old one (sorry). \n",
    "\n",
    "> <b>NOTE:</b> If you update relevant lease information, such as the start/end date of the lease or the upfront/termination payment amounts, then those updates will not automatically flow through to the lease payment schedule. To capture these updates, you need to re-create the payment schedule following the steps below."
   ]
  },
  {
   "cell_type": "markdown",
   "id": "e60d9a68",
   "metadata": {},
   "source": [
    "> - When creating a new payment note the following:\n",
    ">>  - The payment schedule will be based on the start/end dates of the selected lease. Payments cannot be added outside of this date range.\n",
    "<br>\n",
    "<br>\n",
    ">>  - All upfront payments/prepayments or payments made upon termination are specified when the lease is created and automatically populated into the payment schedule on the first or last day of the lease. Any payments entered as occurring on the first or last day of the lease will be added to these amounts in the payment schedule.\n",
    "<br>\n",
    "<br>\n",
    ">>  - To change the start/end date of the lease or the amounts of upfront/termination payments, go to <b> Step 2 </b> and edit the lease information, then return to this step and re-initialize the new payment schedule."
   ]
  },
  {
   "cell_type": "markdown",
   "id": "96cead28",
   "metadata": {},
   "source": [
    "2. Run the cell below to initialize a new payment schedule."
   ]
  },
  {
   "cell_type": "code",
   "execution_count": 229,
   "id": "b6602a02",
   "metadata": {},
   "outputs": [],
   "source": [
    "lease_start = retreive('commencement_date')\n",
    "lease_end = retreive('termination_date')\n",
    "start_payments = retreive('upfront_payments')\n",
    "end_payments = retreive('termination_payments')\n",
    "    \n",
    "pmts = payment_schedule(lease_start, lease_end, start_payments, end_payments)"
   ]
  },
  {
   "cell_type": "markdown",
   "id": "fe1f84b1",
   "metadata": {},
   "source": [
    "3. After the payment schedule has been initialized, it can be viewed by running the cell below."
   ]
  },
  {
   "cell_type": "code",
   "execution_count": 233,
   "id": "be31caaf",
   "metadata": {},
   "outputs": [
    {
     "data": {
      "text/html": [
       "<div>\n",
       "<style scoped>\n",
       "    .dataframe tbody tr th:only-of-type {\n",
       "        vertical-align: middle;\n",
       "    }\n",
       "\n",
       "    .dataframe tbody tr th {\n",
       "        vertical-align: top;\n",
       "    }\n",
       "\n",
       "    .dataframe thead th {\n",
       "        text-align: right;\n",
       "    }\n",
       "</style>\n",
       "<table border=\"1\" class=\"dataframe\">\n",
       "  <thead>\n",
       "    <tr style=\"text-align: right;\">\n",
       "      <th></th>\n",
       "      <th>payment_date</th>\n",
       "      <th>payment_amount</th>\n",
       "    </tr>\n",
       "  </thead>\n",
       "  <tbody>\n",
       "    <tr>\n",
       "      <th>0</th>\n",
       "      <td>2020-04-01</td>\n",
       "      <td>0.0</td>\n",
       "    </tr>\n",
       "    <tr>\n",
       "      <th>1</th>\n",
       "      <td>2020-04-08</td>\n",
       "      <td>7200.0</td>\n",
       "    </tr>\n",
       "    <tr>\n",
       "      <th>2</th>\n",
       "      <td>2020-05-08</td>\n",
       "      <td>7200.0</td>\n",
       "    </tr>\n",
       "    <tr>\n",
       "      <th>3</th>\n",
       "      <td>2020-06-08</td>\n",
       "      <td>7200.0</td>\n",
       "    </tr>\n",
       "    <tr>\n",
       "      <th>4</th>\n",
       "      <td>2020-07-08</td>\n",
       "      <td>7200.0</td>\n",
       "    </tr>\n",
       "    <tr>\n",
       "      <th>5</th>\n",
       "      <td>2020-08-08</td>\n",
       "      <td>7200.0</td>\n",
       "    </tr>\n",
       "    <tr>\n",
       "      <th>6</th>\n",
       "      <td>2020-09-08</td>\n",
       "      <td>7200.0</td>\n",
       "    </tr>\n",
       "    <tr>\n",
       "      <th>7</th>\n",
       "      <td>2020-10-08</td>\n",
       "      <td>7200.0</td>\n",
       "    </tr>\n",
       "    <tr>\n",
       "      <th>8</th>\n",
       "      <td>2020-11-08</td>\n",
       "      <td>7200.0</td>\n",
       "    </tr>\n",
       "    <tr>\n",
       "      <th>9</th>\n",
       "      <td>2020-12-08</td>\n",
       "      <td>7200.0</td>\n",
       "    </tr>\n",
       "    <tr>\n",
       "      <th>10</th>\n",
       "      <td>2021-01-08</td>\n",
       "      <td>7200.0</td>\n",
       "    </tr>\n",
       "    <tr>\n",
       "      <th>11</th>\n",
       "      <td>2021-02-08</td>\n",
       "      <td>7200.0</td>\n",
       "    </tr>\n",
       "    <tr>\n",
       "      <th>12</th>\n",
       "      <td>2021-03-08</td>\n",
       "      <td>7200.0</td>\n",
       "    </tr>\n",
       "    <tr>\n",
       "      <th>13</th>\n",
       "      <td>2021-04-08</td>\n",
       "      <td>7200.0</td>\n",
       "    </tr>\n",
       "    <tr>\n",
       "      <th>14</th>\n",
       "      <td>2021-05-08</td>\n",
       "      <td>7200.0</td>\n",
       "    </tr>\n",
       "    <tr>\n",
       "      <th>15</th>\n",
       "      <td>2021-06-08</td>\n",
       "      <td>7200.0</td>\n",
       "    </tr>\n",
       "    <tr>\n",
       "      <th>16</th>\n",
       "      <td>2021-07-08</td>\n",
       "      <td>7200.0</td>\n",
       "    </tr>\n",
       "    <tr>\n",
       "      <th>17</th>\n",
       "      <td>2021-08-08</td>\n",
       "      <td>7200.0</td>\n",
       "    </tr>\n",
       "    <tr>\n",
       "      <th>18</th>\n",
       "      <td>2021-09-08</td>\n",
       "      <td>7200.0</td>\n",
       "    </tr>\n",
       "    <tr>\n",
       "      <th>19</th>\n",
       "      <td>2021-10-08</td>\n",
       "      <td>7200.0</td>\n",
       "    </tr>\n",
       "    <tr>\n",
       "      <th>20</th>\n",
       "      <td>2021-11-08</td>\n",
       "      <td>7200.0</td>\n",
       "    </tr>\n",
       "    <tr>\n",
       "      <th>21</th>\n",
       "      <td>2021-12-08</td>\n",
       "      <td>7200.0</td>\n",
       "    </tr>\n",
       "    <tr>\n",
       "      <th>22</th>\n",
       "      <td>2022-01-08</td>\n",
       "      <td>7200.0</td>\n",
       "    </tr>\n",
       "    <tr>\n",
       "      <th>23</th>\n",
       "      <td>2022-02-08</td>\n",
       "      <td>7200.0</td>\n",
       "    </tr>\n",
       "    <tr>\n",
       "      <th>24</th>\n",
       "      <td>2022-03-08</td>\n",
       "      <td>7200.0</td>\n",
       "    </tr>\n",
       "    <tr>\n",
       "      <th>25</th>\n",
       "      <td>2022-04-08</td>\n",
       "      <td>7200.0</td>\n",
       "    </tr>\n",
       "    <tr>\n",
       "      <th>26</th>\n",
       "      <td>2022-05-08</td>\n",
       "      <td>7200.0</td>\n",
       "    </tr>\n",
       "    <tr>\n",
       "      <th>27</th>\n",
       "      <td>2022-06-08</td>\n",
       "      <td>7200.0</td>\n",
       "    </tr>\n",
       "    <tr>\n",
       "      <th>28</th>\n",
       "      <td>2022-07-08</td>\n",
       "      <td>7200.0</td>\n",
       "    </tr>\n",
       "    <tr>\n",
       "      <th>29</th>\n",
       "      <td>2022-08-08</td>\n",
       "      <td>7200.0</td>\n",
       "    </tr>\n",
       "    <tr>\n",
       "      <th>30</th>\n",
       "      <td>2022-09-08</td>\n",
       "      <td>7200.0</td>\n",
       "    </tr>\n",
       "    <tr>\n",
       "      <th>31</th>\n",
       "      <td>2022-10-08</td>\n",
       "      <td>7200.0</td>\n",
       "    </tr>\n",
       "    <tr>\n",
       "      <th>32</th>\n",
       "      <td>2022-11-08</td>\n",
       "      <td>7200.0</td>\n",
       "    </tr>\n",
       "    <tr>\n",
       "      <th>33</th>\n",
       "      <td>2022-12-08</td>\n",
       "      <td>7200.0</td>\n",
       "    </tr>\n",
       "    <tr>\n",
       "      <th>34</th>\n",
       "      <td>2023-01-08</td>\n",
       "      <td>7200.0</td>\n",
       "    </tr>\n",
       "    <tr>\n",
       "      <th>35</th>\n",
       "      <td>2023-02-08</td>\n",
       "      <td>7200.0</td>\n",
       "    </tr>\n",
       "    <tr>\n",
       "      <th>36</th>\n",
       "      <td>2023-03-08</td>\n",
       "      <td>7200.0</td>\n",
       "    </tr>\n",
       "    <tr>\n",
       "      <th>37</th>\n",
       "      <td>2023-04-08</td>\n",
       "      <td>7200.0</td>\n",
       "    </tr>\n",
       "    <tr>\n",
       "      <th>38</th>\n",
       "      <td>2023-05-08</td>\n",
       "      <td>7200.0</td>\n",
       "    </tr>\n",
       "    <tr>\n",
       "      <th>39</th>\n",
       "      <td>2023-06-08</td>\n",
       "      <td>7200.0</td>\n",
       "    </tr>\n",
       "    <tr>\n",
       "      <th>40</th>\n",
       "      <td>2023-07-08</td>\n",
       "      <td>7200.0</td>\n",
       "    </tr>\n",
       "    <tr>\n",
       "      <th>41</th>\n",
       "      <td>2023-08-08</td>\n",
       "      <td>7200.0</td>\n",
       "    </tr>\n",
       "    <tr>\n",
       "      <th>42</th>\n",
       "      <td>2023-09-08</td>\n",
       "      <td>7200.0</td>\n",
       "    </tr>\n",
       "    <tr>\n",
       "      <th>43</th>\n",
       "      <td>2023-10-08</td>\n",
       "      <td>7200.0</td>\n",
       "    </tr>\n",
       "    <tr>\n",
       "      <th>44</th>\n",
       "      <td>2023-11-08</td>\n",
       "      <td>7200.0</td>\n",
       "    </tr>\n",
       "    <tr>\n",
       "      <th>45</th>\n",
       "      <td>2023-12-08</td>\n",
       "      <td>7200.0</td>\n",
       "    </tr>\n",
       "    <tr>\n",
       "      <th>46</th>\n",
       "      <td>2024-01-08</td>\n",
       "      <td>7200.0</td>\n",
       "    </tr>\n",
       "    <tr>\n",
       "      <th>47</th>\n",
       "      <td>2024-02-08</td>\n",
       "      <td>7200.0</td>\n",
       "    </tr>\n",
       "    <tr>\n",
       "      <th>48</th>\n",
       "      <td>2024-03-08</td>\n",
       "      <td>7200.0</td>\n",
       "    </tr>\n",
       "    <tr>\n",
       "      <th>49</th>\n",
       "      <td>2024-04-08</td>\n",
       "      <td>7200.0</td>\n",
       "    </tr>\n",
       "    <tr>\n",
       "      <th>50</th>\n",
       "      <td>2024-05-08</td>\n",
       "      <td>7200.0</td>\n",
       "    </tr>\n",
       "    <tr>\n",
       "      <th>51</th>\n",
       "      <td>2024-06-08</td>\n",
       "      <td>7200.0</td>\n",
       "    </tr>\n",
       "    <tr>\n",
       "      <th>52</th>\n",
       "      <td>2024-07-08</td>\n",
       "      <td>7200.0</td>\n",
       "    </tr>\n",
       "    <tr>\n",
       "      <th>53</th>\n",
       "      <td>2024-08-08</td>\n",
       "      <td>7200.0</td>\n",
       "    </tr>\n",
       "    <tr>\n",
       "      <th>54</th>\n",
       "      <td>2024-09-08</td>\n",
       "      <td>7200.0</td>\n",
       "    </tr>\n",
       "    <tr>\n",
       "      <th>55</th>\n",
       "      <td>2024-10-08</td>\n",
       "      <td>7200.0</td>\n",
       "    </tr>\n",
       "    <tr>\n",
       "      <th>56</th>\n",
       "      <td>2024-11-08</td>\n",
       "      <td>7200.0</td>\n",
       "    </tr>\n",
       "    <tr>\n",
       "      <th>57</th>\n",
       "      <td>2024-12-08</td>\n",
       "      <td>7200.0</td>\n",
       "    </tr>\n",
       "    <tr>\n",
       "      <th>58</th>\n",
       "      <td>2025-01-08</td>\n",
       "      <td>7200.0</td>\n",
       "    </tr>\n",
       "    <tr>\n",
       "      <th>59</th>\n",
       "      <td>2025-02-08</td>\n",
       "      <td>7200.0</td>\n",
       "    </tr>\n",
       "    <tr>\n",
       "      <th>60</th>\n",
       "      <td>2025-03-08</td>\n",
       "      <td>7200.0</td>\n",
       "    </tr>\n",
       "    <tr>\n",
       "      <th>61</th>\n",
       "      <td>2025-04-08</td>\n",
       "      <td>7200.0</td>\n",
       "    </tr>\n",
       "    <tr>\n",
       "      <th>62</th>\n",
       "      <td>2025-05-08</td>\n",
       "      <td>7200.0</td>\n",
       "    </tr>\n",
       "    <tr>\n",
       "      <th>63</th>\n",
       "      <td>2025-06-08</td>\n",
       "      <td>7200.0</td>\n",
       "    </tr>\n",
       "    <tr>\n",
       "      <th>64</th>\n",
       "      <td>2025-07-08</td>\n",
       "      <td>7200.0</td>\n",
       "    </tr>\n",
       "    <tr>\n",
       "      <th>65</th>\n",
       "      <td>2025-08-08</td>\n",
       "      <td>7200.0</td>\n",
       "    </tr>\n",
       "    <tr>\n",
       "      <th>66</th>\n",
       "      <td>2025-09-08</td>\n",
       "      <td>7200.0</td>\n",
       "    </tr>\n",
       "    <tr>\n",
       "      <th>67</th>\n",
       "      <td>2025-10-08</td>\n",
       "      <td>7200.0</td>\n",
       "    </tr>\n",
       "    <tr>\n",
       "      <th>68</th>\n",
       "      <td>2025-11-08</td>\n",
       "      <td>7200.0</td>\n",
       "    </tr>\n",
       "    <tr>\n",
       "      <th>69</th>\n",
       "      <td>2025-12-08</td>\n",
       "      <td>7200.0</td>\n",
       "    </tr>\n",
       "    <tr>\n",
       "      <th>70</th>\n",
       "      <td>2026-01-08</td>\n",
       "      <td>7200.0</td>\n",
       "    </tr>\n",
       "    <tr>\n",
       "      <th>71</th>\n",
       "      <td>2026-02-08</td>\n",
       "      <td>7200.0</td>\n",
       "    </tr>\n",
       "    <tr>\n",
       "      <th>72</th>\n",
       "      <td>2026-03-08</td>\n",
       "      <td>7200.0</td>\n",
       "    </tr>\n",
       "    <tr>\n",
       "      <th>73</th>\n",
       "      <td>2026-04-08</td>\n",
       "      <td>7200.0</td>\n",
       "    </tr>\n",
       "    <tr>\n",
       "      <th>74</th>\n",
       "      <td>2026-05-08</td>\n",
       "      <td>7200.0</td>\n",
       "    </tr>\n",
       "    <tr>\n",
       "      <th>75</th>\n",
       "      <td>2026-06-08</td>\n",
       "      <td>7200.0</td>\n",
       "    </tr>\n",
       "    <tr>\n",
       "      <th>76</th>\n",
       "      <td>2026-07-08</td>\n",
       "      <td>7200.0</td>\n",
       "    </tr>\n",
       "    <tr>\n",
       "      <th>77</th>\n",
       "      <td>2026-08-08</td>\n",
       "      <td>7200.0</td>\n",
       "    </tr>\n",
       "    <tr>\n",
       "      <th>78</th>\n",
       "      <td>2026-09-08</td>\n",
       "      <td>7200.0</td>\n",
       "    </tr>\n",
       "    <tr>\n",
       "      <th>79</th>\n",
       "      <td>2026-10-08</td>\n",
       "      <td>7200.0</td>\n",
       "    </tr>\n",
       "    <tr>\n",
       "      <th>80</th>\n",
       "      <td>2026-11-08</td>\n",
       "      <td>7200.0</td>\n",
       "    </tr>\n",
       "    <tr>\n",
       "      <th>81</th>\n",
       "      <td>2026-12-08</td>\n",
       "      <td>7200.0</td>\n",
       "    </tr>\n",
       "    <tr>\n",
       "      <th>82</th>\n",
       "      <td>2027-01-08</td>\n",
       "      <td>7200.0</td>\n",
       "    </tr>\n",
       "    <tr>\n",
       "      <th>83</th>\n",
       "      <td>2027-02-08</td>\n",
       "      <td>7200.0</td>\n",
       "    </tr>\n",
       "    <tr>\n",
       "      <th>84</th>\n",
       "      <td>2027-03-08</td>\n",
       "      <td>7200.0</td>\n",
       "    </tr>\n",
       "    <tr>\n",
       "      <th>85</th>\n",
       "      <td>2027-04-08</td>\n",
       "      <td>7200.0</td>\n",
       "    </tr>\n",
       "    <tr>\n",
       "      <th>86</th>\n",
       "      <td>2027-05-08</td>\n",
       "      <td>7200.0</td>\n",
       "    </tr>\n",
       "    <tr>\n",
       "      <th>87</th>\n",
       "      <td>2027-06-08</td>\n",
       "      <td>7200.0</td>\n",
       "    </tr>\n",
       "    <tr>\n",
       "      <th>88</th>\n",
       "      <td>2027-07-08</td>\n",
       "      <td>7200.0</td>\n",
       "    </tr>\n",
       "    <tr>\n",
       "      <th>89</th>\n",
       "      <td>2027-08-08</td>\n",
       "      <td>7200.0</td>\n",
       "    </tr>\n",
       "    <tr>\n",
       "      <th>90</th>\n",
       "      <td>2027-09-08</td>\n",
       "      <td>7200.0</td>\n",
       "    </tr>\n",
       "    <tr>\n",
       "      <th>91</th>\n",
       "      <td>2027-10-08</td>\n",
       "      <td>7200.0</td>\n",
       "    </tr>\n",
       "    <tr>\n",
       "      <th>92</th>\n",
       "      <td>2027-11-08</td>\n",
       "      <td>7200.0</td>\n",
       "    </tr>\n",
       "    <tr>\n",
       "      <th>93</th>\n",
       "      <td>2027-12-08</td>\n",
       "      <td>7200.0</td>\n",
       "    </tr>\n",
       "    <tr>\n",
       "      <th>94</th>\n",
       "      <td>2028-01-08</td>\n",
       "      <td>7200.0</td>\n",
       "    </tr>\n",
       "    <tr>\n",
       "      <th>95</th>\n",
       "      <td>2028-02-08</td>\n",
       "      <td>7200.0</td>\n",
       "    </tr>\n",
       "    <tr>\n",
       "      <th>96</th>\n",
       "      <td>2028-03-08</td>\n",
       "      <td>7200.0</td>\n",
       "    </tr>\n",
       "    <tr>\n",
       "      <th>97</th>\n",
       "      <td>2028-03-31</td>\n",
       "      <td>0.0</td>\n",
       "    </tr>\n",
       "  </tbody>\n",
       "</table>\n",
       "</div>"
      ],
      "text/plain": [
       "   payment_date  payment_amount\n",
       "0    2020-04-01             0.0\n",
       "1    2020-04-08          7200.0\n",
       "2    2020-05-08          7200.0\n",
       "3    2020-06-08          7200.0\n",
       "4    2020-07-08          7200.0\n",
       "5    2020-08-08          7200.0\n",
       "6    2020-09-08          7200.0\n",
       "7    2020-10-08          7200.0\n",
       "8    2020-11-08          7200.0\n",
       "9    2020-12-08          7200.0\n",
       "10   2021-01-08          7200.0\n",
       "11   2021-02-08          7200.0\n",
       "12   2021-03-08          7200.0\n",
       "13   2021-04-08          7200.0\n",
       "14   2021-05-08          7200.0\n",
       "15   2021-06-08          7200.0\n",
       "16   2021-07-08          7200.0\n",
       "17   2021-08-08          7200.0\n",
       "18   2021-09-08          7200.0\n",
       "19   2021-10-08          7200.0\n",
       "20   2021-11-08          7200.0\n",
       "21   2021-12-08          7200.0\n",
       "22   2022-01-08          7200.0\n",
       "23   2022-02-08          7200.0\n",
       "24   2022-03-08          7200.0\n",
       "25   2022-04-08          7200.0\n",
       "26   2022-05-08          7200.0\n",
       "27   2022-06-08          7200.0\n",
       "28   2022-07-08          7200.0\n",
       "29   2022-08-08          7200.0\n",
       "30   2022-09-08          7200.0\n",
       "31   2022-10-08          7200.0\n",
       "32   2022-11-08          7200.0\n",
       "33   2022-12-08          7200.0\n",
       "34   2023-01-08          7200.0\n",
       "35   2023-02-08          7200.0\n",
       "36   2023-03-08          7200.0\n",
       "37   2023-04-08          7200.0\n",
       "38   2023-05-08          7200.0\n",
       "39   2023-06-08          7200.0\n",
       "40   2023-07-08          7200.0\n",
       "41   2023-08-08          7200.0\n",
       "42   2023-09-08          7200.0\n",
       "43   2023-10-08          7200.0\n",
       "44   2023-11-08          7200.0\n",
       "45   2023-12-08          7200.0\n",
       "46   2024-01-08          7200.0\n",
       "47   2024-02-08          7200.0\n",
       "48   2024-03-08          7200.0\n",
       "49   2024-04-08          7200.0\n",
       "50   2024-05-08          7200.0\n",
       "51   2024-06-08          7200.0\n",
       "52   2024-07-08          7200.0\n",
       "53   2024-08-08          7200.0\n",
       "54   2024-09-08          7200.0\n",
       "55   2024-10-08          7200.0\n",
       "56   2024-11-08          7200.0\n",
       "57   2024-12-08          7200.0\n",
       "58   2025-01-08          7200.0\n",
       "59   2025-02-08          7200.0\n",
       "60   2025-03-08          7200.0\n",
       "61   2025-04-08          7200.0\n",
       "62   2025-05-08          7200.0\n",
       "63   2025-06-08          7200.0\n",
       "64   2025-07-08          7200.0\n",
       "65   2025-08-08          7200.0\n",
       "66   2025-09-08          7200.0\n",
       "67   2025-10-08          7200.0\n",
       "68   2025-11-08          7200.0\n",
       "69   2025-12-08          7200.0\n",
       "70   2026-01-08          7200.0\n",
       "71   2026-02-08          7200.0\n",
       "72   2026-03-08          7200.0\n",
       "73   2026-04-08          7200.0\n",
       "74   2026-05-08          7200.0\n",
       "75   2026-06-08          7200.0\n",
       "76   2026-07-08          7200.0\n",
       "77   2026-08-08          7200.0\n",
       "78   2026-09-08          7200.0\n",
       "79   2026-10-08          7200.0\n",
       "80   2026-11-08          7200.0\n",
       "81   2026-12-08          7200.0\n",
       "82   2027-01-08          7200.0\n",
       "83   2027-02-08          7200.0\n",
       "84   2027-03-08          7200.0\n",
       "85   2027-04-08          7200.0\n",
       "86   2027-05-08          7200.0\n",
       "87   2027-06-08          7200.0\n",
       "88   2027-07-08          7200.0\n",
       "89   2027-08-08          7200.0\n",
       "90   2027-09-08          7200.0\n",
       "91   2027-10-08          7200.0\n",
       "92   2027-11-08          7200.0\n",
       "93   2027-12-08          7200.0\n",
       "94   2028-01-08          7200.0\n",
       "95   2028-02-08          7200.0\n",
       "96   2028-03-08          7200.0\n",
       "97   2028-03-31             0.0"
      ]
     },
     "execution_count": 233,
     "metadata": {},
     "output_type": "execute_result"
    }
   ],
   "source": [
    "pmts.schedule"
   ]
  },
  {
   "cell_type": "markdown",
   "id": "8ecc165c",
   "metadata": {},
   "source": [
    "4. The schedule can be edited by entering the appropriate parameters below and running the following two cells. To view the updated payment schedule, re-run the cell above. See detailed instructions for the parameters below. Once the payment schedule is prepared, continue to the next step."
   ]
  },
  {
   "cell_type": "code",
   "execution_count": 231,
   "id": "674410f7",
   "metadata": {},
   "outputs": [],
   "source": [
    "payment_amount = 7200\n",
    "payment_start_month = '2020-04'\n",
    "day_of_month = 8\n",
    "payment_repeat = 96\n",
    "end_of_month = False"
   ]
  },
  {
   "cell_type": "code",
   "execution_count": 232,
   "id": "ce93d002",
   "metadata": {},
   "outputs": [
    {
     "name": "stdout",
     "output_type": "stream",
     "text": [
      "Payments have been added to the schedule.\n"
     ]
    }
   ],
   "source": [
    "pmts.add_payments(payment_amount, payment_start_month, day_of_month, payment_repeat, end_of_month)"
   ]
  },
  {
   "cell_type": "markdown",
   "id": "9a433676",
   "metadata": {},
   "source": [
    "None"
   ]
  },
  {
   "cell_type": "markdown",
   "id": "77cff52f",
   "metadata": {},
   "source": [
    "> <b> Instructions: </b> To add payments to the schedule provide the following inputs:\n",
    "> - <b>payment_amount:</b> This should be an integer or float value for the payment amount.\n",
    "<br>\n",
    "<br>\n",
    "> - <b>payment_start_month:</b> This is the month the payment takes place, or the first month in a series of recurring payments. Enter it as a string in the 'YYYY-MM' format. \n",
    "<br>\n",
    "<br>\n",
    "> - <b>day_of_month:</b> This is an integer representing the day of the month that the payment or payments take place. If the payments occur on the last day of each month, then enter any number between 1 and 31 and set end_of_month to True.\n",
    "<br>\n",
    "<br>\n",
    "> - <b>payment_repeat:</b> Use this if the payment will repeat on a monthly basis. If the payment will repeat on the same day of consecutive months (or on the last day of consecutive months), then set payment_repeat to the number of consecutive months that the payment will repeat for. If the payment is a one-time payment or made at an irregular interval, set payment_repeat to 1. The value should be an integer and must be greater than 0.\n",
    "<br>\n",
    "<br>\n",
    "> - <b> end_of_month:</b> This is a boolean (True/False) value to indicate if the payment is made on the last day of the month. Note, this will also apply to repeated payments and will override any value in the day_of_month field.\n"
   ]
  },
  {
   "cell_type": "markdown",
   "id": "fef7d89d",
   "metadata": {},
   "source": [
    "The cell below will reset the payment schedule."
   ]
  },
  {
   "cell_type": "code",
   "execution_count": null,
   "id": "2a1d8e2b",
   "metadata": {},
   "outputs": [],
   "source": [
    "reset = input(\"Are you sure you want to reset the payment schedule? (Y/N): \")\n",
    "\n",
    "if reset == 'Y':\n",
    "    pmts.reset_schedule()\n",
    "    print('The schedule has been reset.')\n",
    "else:\n",
    "    print('The schedule was not reset.')"
   ]
  },
  {
   "cell_type": "markdown",
   "id": "095427ab",
   "metadata": {},
   "source": [
    "5. When the payment schedule is set up, run the cell below to save it. Note that if there is an existing payment schedule for the lease it will be overwritten. "
   ]
  },
  {
   "cell_type": "code",
   "execution_count": 234,
   "id": "1554ec83",
   "metadata": {},
   "outputs": [
    {
     "name": "stdout",
     "output_type": "stream",
     "text": [
      "The payment schedule has been successfully updated.\n"
     ]
    }
   ],
   "source": [
    "lease_id = retreive('lease_id')\n",
    "company_id = retreive('company_id')\n",
    "\n",
    "if len(pmt_df) > 0:\n",
    "    overwrite = input(\"If you proceed, existing payment information will be overwritten. Would you like to continue? (Y/N):\")\n",
    "    if overwrite == 'Y':\n",
    "        query = '''DELETE FROM payments WHERE lease_id = %(identifier)s;'''\n",
    "        values = {'identifier':lease_id}\n",
    "        try:\n",
    "            write_query (db_connect, query, values)\n",
    "            print('Previous payment information has been deleted.')\n",
    "        except mysql.connector.Error as e:\n",
    "            print('an error occurred with the database query and no changes were saved. See MySQL error below:')\n",
    "            print(e)\n",
    "else:\n",
    "    overwrite = 'Y'\n",
    "\n",
    "    \n",
    "if overwrite == 'Y':\n",
    "    \n",
    "    query = '''\n",
    "    INSERT INTO payments(\n",
    "    company_id,\n",
    "    lease_id,\n",
    "    payment_date,\n",
    "    payment_amount) VALUES (%s, %s, %s, %s);'''\n",
    "\n",
    "    values = [(company_id, lease_id, str(date)[:10], amount) for date, amount in zip(pmts.schedule['payment_date'], pmts.schedule['payment_amount'])]\n",
    "\n",
    "    try:\n",
    "        write_query (db_connect, query, values, many = True)\n",
    "        print('The payment schedule has been successfully updated.')\n",
    "        del pmts\n",
    "        del pmt_df\n",
    "        del overwrite\n",
    "    except mysql.connector.Error as e:\n",
    "        print('an error occurred with the database query and no changes were saved. See MySQL error below:')\n",
    "        print(e)\n",
    "else:\n",
    "    print(\"No changes were made to the lease's payment information\")"
   ]
  },
  {
   "cell_type": "markdown",
   "id": "33503486",
   "metadata": {},
   "source": [
    "## Deleting Companies and Leases"
   ]
  },
  {
   "cell_type": "markdown",
   "id": "7b70dd8e",
   "metadata": {},
   "source": [
    "Run the respective cells below to delete a company or a lease. Note that deleting a company will delete all leases associated with that company. Note that deleting a lease will delete all payment information associated with that lease. "
   ]
  },
  {
   "cell_type": "markdown",
   "id": "1816a536",
   "metadata": {},
   "source": [
    "#### Delete a Company:\n",
    "Run the cell below to delete the company (the company must be selected from <b>Step 1</b> above.)"
   ]
  },
  {
   "cell_type": "code",
   "execution_count": 235,
   "id": "b0cc6b57",
   "metadata": {},
   "outputs": [
    {
     "name": "stdout",
     "output_type": "stream",
     "text": [
      "Are you sure you want to delete ABC Corporation? This is irreversible. (Y/N):Y\n",
      "ABC Corporation has been deleted.\n"
     ]
    }
   ],
   "source": [
    "company_name = companies.loc[companies['company_id']==company_id, 'company_name'].item()\n",
    "\n",
    "delete = input(f\"Are you sure you want to delete {company_name}? This is irreversible. (Y/N):\")\n",
    "    \n",
    "if delete == 'Y':\n",
    "\n",
    "    query = '''DELETE FROM companies WHERE company_id = %s;'''\n",
    "    values = [company_id]\n",
    "\n",
    "    try:\n",
    "        write_query (db_connect, query, values)\n",
    "        print(f\"{company_name} has been deleted.\")\n",
    "        del delete\n",
    "\n",
    "    except mysql.connector.Error as e:\n",
    "        print('an error occurred with the database query and no changes were saved. See MySQL error below:')\n",
    "        print(e)\n",
    "\n",
    "else:\n",
    "    print(f\"{company_name} was not deleted.\")"
   ]
  },
  {
   "cell_type": "markdown",
   "id": "6414e0c7",
   "metadata": {},
   "source": [
    "#### Delete a Lease:\n",
    "Run the cell below to delete the lease (the lease must be selected from <b>Step 2</b> above.)"
   ]
  },
  {
   "cell_type": "code",
   "execution_count": null,
   "id": "935bfff6",
   "metadata": {},
   "outputs": [],
   "source": [
    "delete = input(f\"Are you sure you want to delete {lease}? This is irreversible. (Y/N):\")\n",
    "    \n",
    "if delete == 'Y':\n",
    "\n",
    "    query = '''DELETE FROM leases WHERE lease_name = %s;'''\n",
    "    values = [lease]\n",
    "\n",
    "    try:\n",
    "        write_query (db_connect, query, values)\n",
    "        print(f\"{lease} has been deleted.\")\n",
    "        del delete\n",
    "\n",
    "    except mysql.connector.Error as e:\n",
    "        print('an error occurred with the database query and no changes were saved. See MySQL error below:')\n",
    "        print(e)\n",
    "\n",
    "else:\n",
    "    print(f\"{lease} was not deleted.\")"
   ]
  }
 ],
 "metadata": {
  "kernelspec": {
   "display_name": "Python 3 (ipykernel)",
   "language": "python",
   "name": "python3"
  },
  "language_info": {
   "codemirror_mode": {
    "name": "ipython",
    "version": 3
   },
   "file_extension": ".py",
   "mimetype": "text/x-python",
   "name": "python",
   "nbconvert_exporter": "python",
   "pygments_lexer": "ipython3",
   "version": "3.11.5"
  }
 },
 "nbformat": 4,
 "nbformat_minor": 5
}
